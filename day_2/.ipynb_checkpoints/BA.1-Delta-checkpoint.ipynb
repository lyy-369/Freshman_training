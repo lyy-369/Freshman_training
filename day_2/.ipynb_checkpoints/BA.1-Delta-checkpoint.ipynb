{
 "cells": [
  {
   "cell_type": "code",
   "execution_count": 42,
   "id": "bfea7ea1",
   "metadata": {},
   "outputs": [
    {
     "name": "stdout",
     "output_type": "stream",
     "text": [
      "Pairs of IDs where context1 and context2 are identical:\n",
      "[[4, 4], [6, 2]]\n"
     ]
    }
   ],
   "source": [
    "import pandas as pd\n",
    "\n",
    "# 假设你已经有一个DataFrame df，包含三列: 'ID', 'context1', 'context2'\n",
    "df = pd.read_csv('test.csv', delimiter=',').dropna(axis=0, subset=['context1', 'context2'])\n",
    "\n",
    "# 使用merge函数找到内容完全相同的行，并将ID以元组的形式返回\n",
    "merged_df = df.merge(df, left_on='context1', right_on='context2', suffixes=('_context1', '_context2'))\n",
    "\n",
    "# 筛选出相同内容的行并提取ID\n",
    "duplicate_ids = merged_df[merged_df['ID_context1'].notna() & merged_df['ID_context2'].notna()][['ID_context1', 'ID_context2']].values.tolist()\n",
    "\n",
    "# 输出结果\n",
    "print(\"Pairs of IDs where context1 and context2 are identical:\")\n",
    "print(duplicate_ids)"
   ]
  },
  {
   "cell_type": "code",
   "execution_count": 47,
   "id": "e67f65b2",
   "metadata": {},
   "outputs": [
    {
     "name": "stdout",
     "output_type": "stream",
     "text": [
      "Pairs of IDs where context1 and context2 are identical:\n",
      "[[26, 20]]\n"
     ]
    }
   ],
   "source": [
    "import pandas as pd\n",
    "\n",
    "# 假设你已经有一个DataFrame df，包含三列: 'ID', 'context1', 'context2'\n",
    "df = pd.read_csv('Examples.csv', delimiter=',').dropna(axis=0, subset=['BA.1', 'Delta'])\n",
    "\n",
    "# 使用merge函数找到内容完全相同的行，并将ID以元组的形式返回\n",
    "merged_df = df.merge(df, left_on='BA.1', right_on='Delta', suffixes=('_BA.1', '_Delta'))\n",
    "\n",
    "# 筛选出相同内容的行并提取ID\n",
    "duplicate_ids = merged_df[merged_df['ID_BA.1'].notna() & merged_df['ID_Delta'].notna()][['ID_BA.1', 'ID_Delta']].values.tolist()\n",
    "\n",
    "# 输出结果\n",
    "print(\"Pairs of IDs where context1 and context2 are identical:\")\n",
    "print(duplicate_ids)"
   ]
  },
  {
   "cell_type": "code",
   "execution_count": 54,
   "id": "b34ca07a",
   "metadata": {},
   "outputs": [
    {
     "name": "stdout",
     "output_type": "stream",
     "text": [
      "Pairs of IDs where context1 and context2 are identical:\n",
      "[[24.0, 1.0, -0.0934, 0.3281]]\n"
     ]
    }
   ],
   "source": [
    "import pandas as pd\n",
    "\n",
    "# 假设你已经有一个DataFrame df，包含三列: 'ID', 'context1', 'context2'\n",
    "df = pd.read_csv('Examples.csv', delimiter=',').dropna(axis=0, subset=['BA.1', 'Delta'])\n",
    "\n",
    "# 使用merge函数找到内容完全相同的行，并将ID以元组的形式返回\n",
    "merged_df = df.merge(df, left_on='BA.1', right_on='Delta', suffixes=('_BA.1', '_Delta'))\n",
    "merged_df\n",
    "# 筛选出相同内容的行并提取ID\n",
    "duplicate_ids = merged_df[merged_df['ID_BA.1'].notna() & merged_df['ID_Delta'].notna()][['ID_BA.1', 'ID_Delta','effect1_BA.1','effect2_Delta']].values.tolist()\n",
    "\n",
    "# 输出结果\n",
    "print(\"Pairs of IDs where context1 and context2 are identical:\")\n",
    "print(duplicate_ids)"
   ]
  }
 ],
 "metadata": {
  "kernelspec": {
   "display_name": "Python 3",
   "language": "python",
   "name": "python3"
  },
  "language_info": {
   "codemirror_mode": {
    "name": "ipython",
    "version": 3
   },
   "file_extension": ".py",
   "mimetype": "text/x-python",
   "name": "python",
   "nbconvert_exporter": "python",
   "pygments_lexer": "ipython3",
   "version": "3.8.8"
  }
 },
 "nbformat": 4,
 "nbformat_minor": 5
}
